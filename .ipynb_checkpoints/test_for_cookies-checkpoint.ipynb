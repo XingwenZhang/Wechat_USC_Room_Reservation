{
 "cells": [
  {
   "cell_type": "code",
   "execution_count": 1,
   "metadata": {
    "collapsed": true
   },
   "outputs": [],
   "source": [
    "import requests"
   ]
  },
  {
   "cell_type": "code",
   "execution_count": 2,
   "metadata": {
    "collapsed": true
   },
   "outputs": [],
   "source": [
    "post_url = 'http://libcal.usc.edu/process_roombookings.php?m=booking_mob'"
   ]
  },
  {
   "cell_type": "code",
   "execution_count": 3,
   "metadata": {
    "collapsed": true
   },
   "outputs": [],
   "source": [
    "r = requests.get(post_url)"
   ]
  },
  {
   "cell_type": "code",
   "execution_count": 5,
   "metadata": {},
   "outputs": [
    {
     "data": {
      "text/plain": [
       "'dJxq4R8ha4cpjjk8WlOy9PFF749THUZ4mnK/0Wn3AUp8dYuD61DnxWOje1RQuVFpw2uV0N7srmcVwfXZXmNHaosiBH/A5cvJGnIa2+OtYVpsLoAPWDoYkvD5/xPQ'"
      ]
     },
     "execution_count": 5,
     "metadata": {},
     "output_type": "execute_result"
    }
   ],
   "source": [
    "r.cookies['AWSALB']"
   ]
  },
  {
   "cell_type": "code",
   "execution_count": 6,
   "metadata": {
    "collapsed": true
   },
   "outputs": [],
   "source": [
    "rr = requests.post(post_url)"
   ]
  },
  {
   "cell_type": "code",
   "execution_count": 7,
   "metadata": {},
   "outputs": [
    {
     "data": {
      "text/plain": [
       "<RequestsCookieJar[Cookie(version=0, name='AWSALB', value='64DHeziR8vniI41awJVSSl9NbcyfmrJStFguqRv9AKPC7gsJUN/w4+qqJAy/qaMuYSmdn0kBBs0aWsMT3vzGEgZo7P50ui97MRWZN6LXQyKGco/0fHVHeSbQlPSs', port=None, port_specified=False, domain='libcal.usc.edu', domain_specified=False, domain_initial_dot=False, path='/', path_specified=True, secure=False, expires=1502157087, discard=False, comment=None, comment_url=None, rest={}, rfc2109=False)]>"
      ]
     },
     "execution_count": 7,
     "metadata": {},
     "output_type": "execute_result"
    }
   ],
   "source": [
    "rr.cookies"
   ]
  },
  {
   "cell_type": "code",
   "execution_count": null,
   "metadata": {
    "collapsed": true
   },
   "outputs": [],
   "source": [
    " 'Cookie':\"_vwo_uuid_v2=641003E722BA383572EB5960C60479AE|1b62e9dc5791b7d2b6bcad3650c57fac; optimizelyEndUserId=oeu1479493308140r0.28413408277979224; optimizelySegments=%7B%224150957310%22%3A%22false%22%2C%224155974626%22%3A%22search%22%2C%224163194645%22%3A%22gc%22%7D; optimizelyBuckets=%7B%7D; desktopCookie=uschomepage; __utma=185748653.185138458.1479232294.1485728281.1485735202.4; __utmz=185748653.1485735202.4.4.utmcsr=google|utmccn=(organic)|utmcmd=organic|utmctr=(not%20provided); __hstc=77507402.c99caa907c017d0cd093ec68a08585ce.1485740385320.1485740385320.1485740385320.1; hsfirstvisit=http%3A%2F%2Fexechealthadmin.usc.edu%2Fadmissions|http%3A%2F%2Fwww.bing.com%2Fsearch%3Fq%3Dusc%2520price%2520online%2520requirements%26qs%3Dn%26form%3DQBRE%26sp%3D-1%26pq%3Dusc%2520price%2520online%2520requirements%26sc%3D0-29%26sk%3D%26cvid%3D2AF353EB7C944C87865EBC99354240E1|1485740385314; hubspotutk=c99caa907c017d0cd093ec68a08585ce; __unam=79ac26c-1586b64794e-4522b679-162; AWSALB=58uIzcz0XzBXpuCiCHR3FJ8AJOP4fzrL9GNWKK0mVSKCoeL9nZPTs8j1qbAzLQHRNf0XEaERmQKPnrjkwMF3xTy5CR1BMmQdohJsN6fxAcB/OGP6/z2q5qvGH2k4; _ga=GA1.2.185138458.1479232294; _gid=GA1.2.1893662304.1500247444\"\n",
    "   "
   ]
  }
 ],
 "metadata": {
  "kernelspec": {
   "display_name": "Python 3",
   "language": "python",
   "name": "python3"
  },
  "language_info": {
   "codemirror_mode": {
    "name": "ipython",
    "version": 3
   },
   "file_extension": ".py",
   "mimetype": "text/x-python",
   "name": "python",
   "nbconvert_exporter": "python",
   "pygments_lexer": "ipython3",
   "version": "3.6.1"
  }
 },
 "nbformat": 4,
 "nbformat_minor": 2
}

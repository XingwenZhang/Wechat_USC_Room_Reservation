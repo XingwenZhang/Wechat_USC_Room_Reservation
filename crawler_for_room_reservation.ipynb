{
 "cells": [
  {
   "cell_type": "code",
   "execution_count": 1,
   "metadata": {
    "collapsed": true
   },
   "outputs": [],
   "source": [
    "import requests\n",
    "import datetime, time\n",
    "import pandas as pd\n",
    "from bs4 import BeautifulSoup"
   ]
  },
  {
   "cell_type": "code",
   "execution_count": 12,
   "metadata": {
    "collapsed": true
   },
   "outputs": [],
   "source": [
    "nocache = int(time.time()*1000)"
   ]
  },
  {
   "cell_type": "code",
   "execution_count": 13,
   "metadata": {},
   "outputs": [
    {
     "data": {
      "text/plain": [
       "1500248079780"
      ]
     },
     "execution_count": 13,
     "metadata": {},
     "output_type": "execute_result"
    }
   ],
   "source": [
    "nocache"
   ]
  },
  {
   "cell_type": "code",
   "execution_count": 14,
   "metadata": {
    "collapsed": true
   },
   "outputs": [],
   "source": [
    "cdate = time.strftime('%Y-%M-%d',time.gmtime())"
   ]
  },
  {
   "cell_type": "code",
   "execution_count": 15,
   "metadata": {},
   "outputs": [
    {
     "data": {
      "text/plain": [
       "str"
      ]
     },
     "execution_count": 15,
     "metadata": {},
     "output_type": "execute_result"
    }
   ],
   "source": [
    "type(cdate)"
   ]
  },
  {
   "cell_type": "code",
   "execution_count": 16,
   "metadata": {
    "collapsed": true
   },
   "outputs": [],
   "source": [
    "headers = {\n",
    "    'user-agent':'Mozilla/5.0 (Linux; Android 6.0; Nexus 5 Build/MRA58N) AppleWebKit/537.36 (KHTML, like Gecko) Chrome/59.0.3071.115 Mobile Safari/537.36'\n",
    "}"
   ]
  },
  {
   "cell_type": "code",
   "execution_count": 17,
   "metadata": {
    "collapsed": true
   },
   "outputs": [],
   "source": [
    "day_url = \"http://libcal.usc.edu/process_roombookings.php?m=calscroll&gid=4490&date=\"+cdate+\"&nocache=\"+str(nocache)\n"
   ]
  },
  {
   "cell_type": "code",
   "execution_count": 18,
   "metadata": {
    "collapsed": true
   },
   "outputs": [],
   "source": [
    "response = requests.post(day_url,headers = headers)"
   ]
  },
  {
   "cell_type": "code",
   "execution_count": 19,
   "metadata": {},
   "outputs": [
    {
     "data": {
      "text/plain": [
       "<RequestsCookieJar[Cookie(version=0, name='AWSALB', value='4hrdHKbuDDB3wdTK7zUMP38nkvSPPIe6G04JgdG1+qDWtr/ie8ymmoGNh2VAzJue2YlsVOrvGO5eeo6lvRSEh++kmYSRwdBIo+eR1dabt0Fi+//MbtvvezTqDqhP', port=None, port_specified=False, domain='libcal.usc.edu', domain_specified=False, domain_initial_dot=False, path='/', path_specified=True, secure=False, expires=1500853031, discard=False, comment=None, comment_url=None, rest={}, rfc2109=False)]>"
      ]
     },
     "execution_count": 19,
     "metadata": {},
     "output_type": "execute_result"
    }
   ],
   "source": [
    "response.cookies"
   ]
  },
  {
   "cell_type": "code",
   "execution_count": 20,
   "metadata": {},
   "outputs": [
    {
     "data": {
      "text/plain": [
       "'http://libcal.usc.edu/process_roombookings.php?m=calscroll&gid=4490&date=2017-34-16&nocache=1500248079780'"
      ]
     },
     "execution_count": 20,
     "metadata": {},
     "output_type": "execute_result"
    }
   ],
   "source": [
    "day_url"
   ]
  },
  {
   "cell_type": "code",
   "execution_count": 21,
   "metadata": {},
   "outputs": [
    {
     "data": {
      "text/plain": [
       "'ProcPage::invalid request'"
      ]
     },
     "execution_count": 21,
     "metadata": {},
     "output_type": "execute_result"
    }
   ],
   "source": [
    "response.text"
   ]
  },
  {
   "cell_type": "code",
   "execution_count": 2,
   "metadata": {
    "collapsed": true
   },
   "outputs": [],
   "source": [
    "book_room_html = requests.get('http://libcal.usc.edu/rooms_acc.php?gid=4490')"
   ]
  },
  {
   "cell_type": "code",
   "execution_count": 4,
   "metadata": {
    "collapsed": true
   },
   "outputs": [],
   "source": [
    "soup = BeautifulSoup(book_room_html.text,'lxml')"
   ]
  },
  {
   "cell_type": "code",
   "execution_count": 7,
   "metadata": {},
   "outputs": [
    {
     "name": "stdout",
     "output_type": "stream",
     "text": [
      "Tuesday, July 18th\n",
      "Wednesday, July 19th\n",
      "Thursday, July 20th\n",
      "Friday, July 21st\n",
      "Saturday, July 22nd\n",
      "Sunday, July 23rd\n",
      "Monday, July 24th\n",
      "Tuesday, July 25th\n"
     ]
    }
   ],
   "source": [
    "for i in soup.findAll('select')[0].stripped_strings:\n",
    "    print (i)"
   ]
  },
  {
   "cell_type": "code",
   "execution_count": 30,
   "metadata": {
    "collapsed": true
   },
   "outputs": [],
   "source": [
    "room_booking_html = requests.get('http://libcal.usc.edu/rooms_acc.php?gid=4490&d=2017-7-20&cap=1')"
   ]
  },
  {
   "cell_type": "code",
   "execution_count": 31,
   "metadata": {
    "collapsed": true
   },
   "outputs": [],
   "source": [
    "soup = BeautifulSoup(room_booking_html.text,'lxml')"
   ]
  },
  {
   "cell_type": "code",
   "execution_count": 32,
   "metadata": {},
   "outputs": [
    {
     "data": {
      "text/plain": [
       "[<option value=\"2017-07-18\">Tuesday, July 18th</option>,\n",
       " <option value=\"2017-07-19\">Wednesday, July 19th</option>,\n",
       " <option selected=\"selected\" value=\"2017-07-20\">Thursday, July 20th</option>,\n",
       " <option value=\"2017-07-21\">Friday, July 21st</option>,\n",
       " <option value=\"2017-07-22\">Saturday, July 22nd</option>,\n",
       " <option value=\"2017-07-23\">Sunday, July 23rd</option>,\n",
       " <option value=\"2017-07-24\">Monday, July 24th</option>,\n",
       " <option value=\"2017-07-25\">Tuesday, July 25th</option>,\n",
       " ' ']"
      ]
     },
     "execution_count": 32,
     "metadata": {},
     "output_type": "execute_result"
    }
   ],
   "source": [
    "soup.findAll(\"select\")[0].contents"
   ]
  },
  {
   "cell_type": "code",
   "execution_count": 33,
   "metadata": {},
   "outputs": [
    {
     "data": {
      "text/plain": [
       "'3F '"
      ]
     },
     "execution_count": 33,
     "metadata": {},
     "output_type": "execute_result"
    }
   ],
   "source": [
    "soup.select('legend h2')[0].contents[0]"
   ]
  },
  {
   "cell_type": "code",
   "execution_count": 34,
   "metadata": {
    "collapsed": true
   },
   "outputs": [],
   "source": [
    "s = soup.select('form[id=\"roombookingform\"]')[0]"
   ]
  },
  {
   "cell_type": "code",
   "execution_count": 35,
   "metadata": {
    "collapsed": true
   },
   "outputs": [],
   "source": [
    "ss = soup.select('form[id=\"roombookingform\"]')[0]"
   ]
  },
  {
   "cell_type": "code",
   "execution_count": 36,
   "metadata": {
    "collapsed": true
   },
   "outputs": [],
   "source": [
    "sss = ss.select('fieldset')"
   ]
  },
  {
   "cell_type": "code",
   "execution_count": 37,
   "metadata": {},
   "outputs": [
    {
     "name": "stdout",
     "output_type": "stream",
     "text": [
      "3F\n",
      "Capacity: 1\n",
      "Group Study Room\n",
      "11:00am - 12:00pm\n",
      "12:00pm - 1:00pm\n",
      "1:00pm - 2:00pm\n",
      "6:00pm - 7:00pm\n",
      "Skip to registration form\n"
     ]
    }
   ],
   "source": [
    "for j in sss[0].stripped_strings:\n",
    "    print (j)"
   ]
  },
  {
   "cell_type": "code",
   "execution_count": 38,
   "metadata": {},
   "outputs": [
    {
     "name": "stdout",
     "output_type": "stream",
     "text": [
      "3F\n",
      "Capacity: 1\n",
      "Group Study Room\n",
      "11:00am - 12:00pm\n",
      "12:00pm - 1:00pm\n",
      "1:00pm - 2:00pm\n",
      "6:00pm - 7:00pm\n",
      "Skip to registration form\n",
      "3G\n",
      "Capacity: 1\n",
      "Group Study Room\n",
      "9:00am - 10:00am\n",
      "10:00am - 11:00am\n",
      "11:00am - 12:00pm\n",
      "12:00pm - 1:00pm\n",
      "1:00pm - 2:00pm\n",
      "4:00pm - 5:00pm\n",
      "5:00pm - 6:00pm\n",
      "6:00pm - 7:00pm\n",
      "Skip to registration form\n",
      "3H\n",
      "Capacity: 1\n",
      "Group Study Room\n",
      "9:00am - 10:00am\n",
      "10:00am - 11:00am\n",
      "11:00am - 12:00pm\n",
      "12:00pm - 1:00pm\n",
      "1:00pm - 2:00pm\n",
      "2:00pm - 3:00pm\n",
      "3:00pm - 4:00pm\n",
      "4:00pm - 5:00pm\n",
      "5:00pm - 6:00pm\n",
      "6:00pm - 7:00pm\n",
      "Skip to registration form\n",
      "3J\n",
      "Capacity: 1\n",
      "Group Study Room. Knoll furniture evaluation.\n",
      "9:00am - 10:00am\n",
      "10:00am - 11:00am\n",
      "11:00am - 12:00pm\n",
      "12:00pm - 1:00pm\n",
      "1:00pm - 2:00pm\n",
      "2:00pm - 3:00pm\n",
      "3:00pm - 4:00pm\n",
      "4:00pm - 5:00pm\n",
      "5:00pm - 6:00pm\n",
      "6:00pm - 7:00pm\n",
      "Skip to registration form\n",
      "3R\n",
      "Capacity: 1\n",
      "Group Study Room\n",
      "9:00am - 10:00am\n",
      "10:00am - 11:00am\n",
      "11:00am - 12:00pm\n",
      "12:00pm - 1:00pm\n",
      "1:00pm - 2:00pm\n",
      "2:00pm - 3:00pm\n",
      "3:00pm - 4:00pm\n",
      "4:00pm - 5:00pm\n",
      "5:00pm - 6:00pm\n",
      "6:00pm - 7:00pm\n",
      "Skip to registration form\n",
      "3S\n",
      "Capacity: 1\n",
      "Group Study Room\n",
      "9:00am - 10:00am\n",
      "10:00am - 11:00am\n",
      "11:00am - 12:00pm\n",
      "12:00pm - 1:00pm\n",
      "1:00pm - 2:00pm\n",
      "2:00pm - 3:00pm\n",
      "3:00pm - 4:00pm\n",
      "4:00pm - 5:00pm\n",
      "5:00pm - 6:00pm\n",
      "6:00pm - 7:00pm\n",
      "Skip to registration form\n",
      "3T\n",
      "Capacity: 1\n",
      "Group Study Room\n",
      "9:00am - 10:00am\n",
      "10:00am - 11:00am\n",
      "11:00am - 12:00pm\n",
      "12:00pm - 1:00pm\n",
      "1:00pm - 2:00pm\n",
      "2:00pm - 3:00pm\n",
      "3:00pm - 4:00pm\n",
      "4:00pm - 5:00pm\n",
      "5:00pm - 6:00pm\n",
      "6:00pm - 7:00pm\n",
      "Skip to registration form\n",
      "3U\n",
      "Capacity: 1\n",
      "Group Study Room\n",
      "9:00am - 10:00am\n",
      "10:00am - 11:00am\n",
      "11:00am - 12:00pm\n",
      "12:00pm - 1:00pm\n",
      "1:00pm - 2:00pm\n",
      "2:00pm - 3:00pm\n",
      "3:00pm - 4:00pm\n",
      "4:00pm - 5:00pm\n",
      "5:00pm - 6:00pm\n",
      "6:00pm - 7:00pm\n",
      "Skip to registration form\n",
      "3W\n",
      "Capacity: 1\n",
      "Group Study Room\n",
      "9:00am - 10:00am\n",
      "10:00am - 11:00am\n",
      "11:00am - 12:00pm\n",
      "12:00pm - 1:00pm\n",
      "1:00pm - 2:00pm\n",
      "2:00pm - 3:00pm\n",
      "3:00pm - 4:00pm\n",
      "4:00pm - 5:00pm\n",
      "5:00pm - 6:00pm\n",
      "6:00pm - 7:00pm\n",
      "Skip to registration form\n",
      "3X\n",
      "Capacity: 1\n",
      "Group Study Room\n",
      "9:00am - 10:00am\n",
      "10:00am - 11:00am\n",
      "11:00am - 12:00pm\n",
      "12:00pm - 1:00pm\n",
      "1:00pm - 2:00pm\n",
      "2:00pm - 3:00pm\n",
      "3:00pm - 4:00pm\n",
      "4:00pm - 5:00pm\n",
      "5:00pm - 6:00pm\n",
      "6:00pm - 7:00pm\n",
      "Skip to registration form\n",
      "3AA\n",
      "Capacity: 1\n",
      "Group Study Room\n",
      "9:00am - 10:00am\n",
      "10:00am - 11:00am\n",
      "11:00am - 12:00pm\n",
      "12:00pm - 1:00pm\n",
      "1:00pm - 2:00pm\n",
      "2:00pm - 3:00pm\n",
      "3:00pm - 4:00pm\n",
      "4:00pm - 5:00pm\n",
      "5:00pm - 6:00pm\n",
      "6:00pm - 7:00pm\n",
      "Skip to registration form\n",
      "3K\n",
      "Capacity: 1\n",
      "Group Study Room. Haworth technology and furniture evaluation.\n",
      "9:00am - 10:00am\n",
      "10:00am - 11:00am\n",
      "11:00am - 12:00pm\n",
      "12:00pm - 1:00pm\n",
      "1:00pm - 2:00pm\n",
      "2:00pm - 3:00pm\n",
      "3:00pm - 4:00pm\n",
      "4:00pm - 5:00pm\n",
      "5:00pm - 6:00pm\n",
      "6:00pm - 7:00pm\n",
      "Skip to registration form\n",
      "3L\n",
      "Capacity: 1\n",
      "Group Study Room. Knoll technology and furniture evaluation.\n",
      "9:00am - 10:00am\n",
      "10:00am - 11:00am\n",
      "11:00am - 12:00pm\n",
      "12:00pm - 1:00pm\n",
      "1:00pm - 2:00pm\n",
      "2:00pm - 3:00pm\n",
      "3:00pm - 4:00pm\n",
      "4:00pm - 5:00pm\n",
      "5:00pm - 6:00pm\n",
      "6:00pm - 7:00pm\n",
      "Skip to registration form\n",
      "3N\n",
      "Capacity: 1\n",
      "Group Study Room. Haworth technology and furniture evaluation.\n",
      "9:00am - 10:00am\n",
      "10:00am - 11:00am\n",
      "11:00am - 12:00pm\n",
      "12:00pm - 1:00pm\n",
      "1:00pm - 2:00pm\n",
      "2:00pm - 3:00pm\n",
      "3:00pm - 4:00pm\n",
      "4:00pm - 5:00pm\n",
      "5:00pm - 6:00pm\n",
      "6:00pm - 7:00pm\n",
      "Skip to registration form\n",
      "3P\n",
      "Capacity: 1\n",
      "Group Study Room. Collab8 technology evaluation.\n",
      "9:00am - 10:00am\n",
      "10:00am - 11:00am\n",
      "11:00am - 12:00pm\n",
      "12:00pm - 1:00pm\n",
      "1:00pm - 2:00pm\n",
      "2:00pm - 3:00pm\n",
      "3:00pm - 4:00pm\n",
      "4:00pm - 5:00pm\n",
      "5:00pm - 6:00pm\n",
      "6:00pm - 7:00pm\n",
      "Skip to registration form\n",
      "3Q\n",
      "Capacity: 1\n",
      "Group Study Room. Collab8 technology evaluation.\n",
      "9:00am - 10:00am\n",
      "10:00am - 11:00am\n",
      "11:00am - 12:00pm\n",
      "12:00pm - 1:00pm\n",
      "1:00pm - 2:00pm\n",
      "2:00pm - 3:00pm\n",
      "3:00pm - 4:00pm\n",
      "4:00pm - 5:00pm\n",
      "5:00pm - 6:00pm\n",
      "6:00pm - 7:00pm\n",
      "Skip to registration form\n",
      "Booking Details\n",
      "* Required Field\n",
      "Full Name *\n",
      "First Name\n",
      "Last Name\n",
      "Email *\n",
      "Enter @usc.edu addresses only\n",
      "Submit my Booking\n"
     ]
    }
   ],
   "source": [
    "for i in sss:\n",
    "    for item in i.stripped_strings:\n",
    "        print(item)"
   ]
  },
  {
   "cell_type": "code",
   "execution_count": null,
   "metadata": {
    "collapsed": true
   },
   "outputs": [],
   "source": []
  },
  {
   "cell_type": "code",
   "execution_count": 88,
   "metadata": {},
   "outputs": [
    {
     "ename": "AttributeError",
     "evalue": "'list' object has no attribute 'stripped_strings'",
     "output_type": "error",
     "traceback": [
      "\u001b[1;31m---------------------------------------------------------------------------\u001b[0m",
      "\u001b[1;31mAttributeError\u001b[0m                            Traceback (most recent call last)",
      "\u001b[1;32m<ipython-input-88-5caea97b7ec7>\u001b[0m in \u001b[0;36m<module>\u001b[1;34m()\u001b[0m\n\u001b[1;32m----> 1\u001b[1;33m \u001b[1;32mfor\u001b[0m \u001b[0mi\u001b[0m \u001b[1;32min\u001b[0m \u001b[0msss\u001b[0m\u001b[1;33m.\u001b[0m\u001b[0mstripped_strings\u001b[0m\u001b[1;33m:\u001b[0m\u001b[1;33m\u001b[0m\u001b[0m\n\u001b[0m\u001b[0;32m      2\u001b[0m     \u001b[0mprint\u001b[0m\u001b[1;33m(\u001b[0m\u001b[0mi\u001b[0m\u001b[1;33m)\u001b[0m\u001b[1;33m\u001b[0m\u001b[0m\n",
      "\u001b[1;31mAttributeError\u001b[0m: 'list' object has no attribute 'stripped_strings'"
     ]
    }
   ],
   "source": [
    "for i in sss.stripped_strings:\n",
    "    print(i)"
   ]
  },
  {
   "cell_type": "code",
   "execution_count": 86,
   "metadata": {},
   "outputs": [
    {
     "name": "stdout",
     "output_type": "stream",
     "text": [
      "3F\n",
      "Capacity: 1\n",
      "Group Study Room\n",
      "12:00pm - 1:00pm\n",
      "1:00pm - 2:00pm\n",
      "2:00pm - 3:00pm\n",
      "3:00pm - 4:00pm\n",
      "4:00pm - 5:00pm\n",
      "5:00pm - 6:00pm\n",
      "6:00pm - 7:00pm\n",
      "Skip to registration form\n",
      "3G\n",
      "Capacity: 1\n",
      "Group Study Room\n",
      "12:00pm - 1:00pm\n",
      "1:00pm - 2:00pm\n",
      "2:00pm - 3:00pm\n",
      "3:00pm - 4:00pm\n",
      "4:00pm - 5:00pm\n",
      "5:00pm - 6:00pm\n",
      "6:00pm - 7:00pm\n",
      "Skip to registration form\n",
      "3H\n",
      "Capacity: 1\n",
      "Group Study Room\n",
      "12:00pm - 1:00pm\n",
      "1:00pm - 2:00pm\n",
      "2:00pm - 3:00pm\n",
      "3:00pm - 4:00pm\n",
      "4:00pm - 5:00pm\n",
      "5:00pm - 6:00pm\n",
      "6:00pm - 7:00pm\n",
      "Skip to registration form\n",
      "3J\n",
      "Capacity: 1\n",
      "Group Study Room. Knoll furniture evaluation.\n",
      "12:00pm - 1:00pm\n",
      "1:00pm - 2:00pm\n",
      "2:00pm - 3:00pm\n",
      "3:00pm - 4:00pm\n",
      "4:00pm - 5:00pm\n",
      "5:00pm - 6:00pm\n",
      "6:00pm - 7:00pm\n",
      "Skip to registration form\n",
      "3R\n",
      "Capacity: 1\n",
      "Group Study Room\n",
      "12:00pm - 1:00pm\n",
      "1:00pm - 2:00pm\n",
      "2:00pm - 3:00pm\n",
      "3:00pm - 4:00pm\n",
      "4:00pm - 5:00pm\n",
      "5:00pm - 6:00pm\n",
      "6:00pm - 7:00pm\n",
      "Skip to registration form\n",
      "3S\n",
      "Capacity: 1\n",
      "Group Study Room\n",
      "12:00pm - 1:00pm\n",
      "1:00pm - 2:00pm\n",
      "2:00pm - 3:00pm\n",
      "3:00pm - 4:00pm\n",
      "4:00pm - 5:00pm\n",
      "5:00pm - 6:00pm\n",
      "6:00pm - 7:00pm\n",
      "Skip to registration form\n",
      "3T\n",
      "Capacity: 1\n",
      "Group Study Room\n",
      "12:00pm - 1:00pm\n",
      "1:00pm - 2:00pm\n",
      "2:00pm - 3:00pm\n",
      "3:00pm - 4:00pm\n",
      "4:00pm - 5:00pm\n",
      "5:00pm - 6:00pm\n",
      "6:00pm - 7:00pm\n",
      "Skip to registration form\n",
      "3U\n",
      "Capacity: 1\n",
      "Group Study Room\n",
      "12:00pm - 1:00pm\n",
      "1:00pm - 2:00pm\n",
      "2:00pm - 3:00pm\n",
      "3:00pm - 4:00pm\n",
      "4:00pm - 5:00pm\n",
      "5:00pm - 6:00pm\n",
      "6:00pm - 7:00pm\n",
      "Skip to registration form\n",
      "3W\n",
      "Capacity: 1\n",
      "Group Study Room\n",
      "12:00pm - 1:00pm\n",
      "1:00pm - 2:00pm\n",
      "2:00pm - 3:00pm\n",
      "3:00pm - 4:00pm\n",
      "4:00pm - 5:00pm\n",
      "5:00pm - 6:00pm\n",
      "6:00pm - 7:00pm\n",
      "Skip to registration form\n",
      "3X\n",
      "Capacity: 1\n",
      "Group Study Room\n",
      "12:00pm - 1:00pm\n",
      "1:00pm - 2:00pm\n",
      "2:00pm - 3:00pm\n",
      "3:00pm - 4:00pm\n",
      "4:00pm - 5:00pm\n",
      "5:00pm - 6:00pm\n",
      "6:00pm - 7:00pm\n",
      "Skip to registration form\n",
      "3AA\n",
      "Capacity: 1\n",
      "Group Study Room\n",
      "12:00pm - 1:00pm\n",
      "1:00pm - 2:00pm\n",
      "2:00pm - 3:00pm\n",
      "3:00pm - 4:00pm\n",
      "4:00pm - 5:00pm\n",
      "5:00pm - 6:00pm\n",
      "6:00pm - 7:00pm\n",
      "Skip to registration form\n",
      "3K\n",
      "Capacity: 1\n",
      "Group Study Room. Haworth technology and furniture evaluation.\n",
      "12:00pm - 1:00pm\n",
      "1:00pm - 2:00pm\n",
      "2:00pm - 3:00pm\n",
      "3:00pm - 4:00pm\n",
      "4:00pm - 5:00pm\n",
      "5:00pm - 6:00pm\n",
      "6:00pm - 7:00pm\n",
      "Skip to registration form\n",
      "3L\n",
      "Capacity: 1\n",
      "Group Study Room. Knoll technology and furniture evaluation.\n",
      "12:00pm - 1:00pm\n",
      "1:00pm - 2:00pm\n",
      "2:00pm - 3:00pm\n",
      "3:00pm - 4:00pm\n",
      "4:00pm - 5:00pm\n",
      "5:00pm - 6:00pm\n",
      "6:00pm - 7:00pm\n",
      "Skip to registration form\n",
      "3N\n",
      "Capacity: 1\n",
      "Group Study Room. Haworth technology and furniture evaluation.\n",
      "12:00pm - 1:00pm\n",
      "1:00pm - 2:00pm\n",
      "2:00pm - 3:00pm\n",
      "3:00pm - 4:00pm\n",
      "4:00pm - 5:00pm\n",
      "5:00pm - 6:00pm\n",
      "6:00pm - 7:00pm\n",
      "Skip to registration form\n",
      "3P\n",
      "Capacity: 1\n",
      "Group Study Room. Collab8 technology evaluation.\n",
      "12:00pm - 1:00pm\n",
      "1:00pm - 2:00pm\n",
      "2:00pm - 3:00pm\n",
      "3:00pm - 4:00pm\n",
      "4:00pm - 5:00pm\n",
      "5:00pm - 6:00pm\n",
      "6:00pm - 7:00pm\n",
      "Skip to registration form\n",
      "3Q\n",
      "Capacity: 1\n",
      "Group Study Room. Collab8 technology evaluation.\n",
      "12:00pm - 1:00pm\n",
      "1:00pm - 2:00pm\n",
      "2:00pm - 3:00pm\n",
      "3:00pm - 4:00pm\n",
      "4:00pm - 5:00pm\n",
      "5:00pm - 6:00pm\n",
      "6:00pm - 7:00pm\n",
      "Skip to registration form\n",
      "Groups have priority. If you make a reservation as an individual, a group may ask you to relocate.\n",
      "(Except for the MMPL iMac Workstations)\n",
      "Each reservation has a 10 minute grace period. If your group has not arrived after the first 10 minutes of your reservation have passed, another group may take over your reservation.\n",
      "NOTE: If furniture or equipment is lost or damaged while you are in the room, you may be charged for repair or replacement.\n",
      "Booking Details\n",
      "* Required Field\n",
      "Full Name *\n",
      "First Name\n",
      "Last Name\n",
      "Email *\n",
      "Enter @usc.edu addresses only\n",
      "Submit my Booking\n"
     ]
    }
   ],
   "source": [
    "for i in s.stripped_strings:\n",
    "    print(i)"
   ]
  },
  {
   "cell_type": "code",
   "execution_count": 1,
   "metadata": {
    "collapsed": true
   },
   "outputs": [],
   "source": [
    "from selenium import webdriver\n",
    "from selenium.webdriver.common.keys import Keys\n",
    "from selenium.webdriver.support.ui import Select"
   ]
  },
  {
   "cell_type": "code",
   "execution_count": 20,
   "metadata": {
    "collapsed": true
   },
   "outputs": [],
   "source": [
    "driver = webdriver.Chrome('E:\\chromedriver_win32\\chromedriver.exe')\n",
    "# driver = webdriver.PhantomJS()\n",
    "driver.get(\"http://libcal.usc.edu/rooms_acc.php?gid=4490&d=2017-07-18&cap=0\")\n",
    "# elem = driver.find_element_by_name(\"q\")\n",
    "# elem.send_keys(\"pycon\")\n",
    "# elem.send_keys(Keys.RETURN)\n",
    "# print driver.page_source"
   ]
  },
  {
   "cell_type": "code",
   "execution_count": 2,
   "metadata": {
    "collapsed": true
   },
   "outputs": [],
   "source": [
    "driver2 = webdriver.PhantomJS()"
   ]
  },
  {
   "cell_type": "code",
   "execution_count": 4,
   "metadata": {},
   "outputs": [
    {
     "ename": "NameError",
     "evalue": "name 'driver' is not defined",
     "output_type": "error",
     "traceback": [
      "\u001b[1;31m---------------------------------------------------------------------------\u001b[0m",
      "\u001b[1;31mNameError\u001b[0m                                 Traceback (most recent call last)",
      "\u001b[1;32m<ipython-input-4-4d56a611a417>\u001b[0m in \u001b[0;36m<module>\u001b[1;34m()\u001b[0m\n\u001b[1;32m----> 1\u001b[1;33m \u001b[0mform\u001b[0m \u001b[1;33m=\u001b[0m \u001b[0mdriver\u001b[0m\u001b[1;33m.\u001b[0m\u001b[0mfind_element_by_id\u001b[0m\u001b[1;33m(\u001b[0m\u001b[1;34m'sch545446762'\u001b[0m\u001b[1;33m)\u001b[0m\u001b[1;33m.\u001b[0m\u001b[0mclick\u001b[0m\u001b[1;33m(\u001b[0m\u001b[1;33m)\u001b[0m\u001b[1;33m\u001b[0m\u001b[0m\n\u001b[0m",
      "\u001b[1;31mNameError\u001b[0m: name 'driver' is not defined"
     ]
    }
   ],
   "source": [
    "form = driver.find_element_by_id('sch545446762').click()"
   ]
  },
  {
   "cell_type": "code",
   "execution_count": 116,
   "metadata": {},
   "outputs": [
    {
     "data": {
      "text/plain": [
       "<selenium.webdriver.remote.webelement.WebElement (session=\"c1322c9ff2f2d8ac115a9fda0c26f6fb\", element=\"0.10114406422364253-155\")>"
      ]
     },
     "execution_count": 116,
     "metadata": {},
     "output_type": "execute_result"
    }
   ],
   "source": [
    "<input type=\"checkbox\" name=\"sid[]\" id=\"sch545454782\" value=\"545454782\" data-seq=\"12616101\" class=\"durc\" onchange=\"checkDur('545454782');\">"
   ]
  },
  {
   "cell_type": "code",
   "execution_count": 241,
   "metadata": {
    "collapsed": true
   },
   "outputs": [],
   "source": [
    "room_num = driver.find_element_by_xpath(\"//h2[contains(text(), '3F')]/parent::*/parent::*/child::div[contains(@class,'checkbox')]\")"
   ]
  },
  {
   "cell_type": "code",
   "execution_count": 246,
   "metadata": {
    "collapsed": true
   },
   "outputs": [],
   "source": [
    "room_num2 = driver.find_element_by_xpath(\"//h2[contains(text(), '3F')]/parent::*/parent::*/*[contains(@class,'checkbox')]/child::label\")"
   ]
  },
  {
   "cell_type": "code",
   "execution_count": 267,
   "metadata": {
    "collapsed": true
   },
   "outputs": [],
   "source": [
    "room_num3 = driver.find_element_by_xpath(\"//h2[contains(text(), '3F')]/parent::*/parent::*/*[contains(@class,'checkbox')]/self::*[contains(.,'11:00am - 12:00pm')]/child::label\")"
   ]
  },
  {
   "cell_type": "code",
   "execution_count": 268,
   "metadata": {},
   "outputs": [
    {
     "data": {
      "text/plain": [
       "'\\n\\t\\t\\t\\t\\t\\t<input type=\"checkbox\" name=\"sid[]\" id=\"sch545446762\" value=\"545446762\" data-seq=\"12616103\" class=\"durc\" onchange=\"checkDur(\\'545446762\\');\">\\n\\t\\t\\t\\t\\t\\t11:00am - 12:00pm\\n\\t\\t\\t\\t\\t  '"
      ]
     },
     "execution_count": 268,
     "metadata": {},
     "output_type": "execute_result"
    }
   ],
   "source": [
    "room_num3.get_attribute('innerHTML')"
   ]
  },
  {
   "cell_type": "code",
   "execution_count": 247,
   "metadata": {},
   "outputs": [
    {
     "data": {
      "text/plain": [
       "'\\n\\t\\t\\t\\t\\t\\t<input type=\"checkbox\" name=\"sid[]\" id=\"sch545446762\" value=\"545446762\" data-seq=\"12616103\" class=\"durc\" onchange=\"checkDur(\\'545446762\\');\">\\n\\t\\t\\t\\t\\t\\t11:00am - 12:00pm\\n\\t\\t\\t\\t\\t  '"
      ]
     },
     "execution_count": 247,
     "metadata": {},
     "output_type": "execute_result"
    }
   ],
   "source": [
    "room_num2.get_attribute('innerHTML')"
   ]
  },
  {
   "cell_type": "code",
   "execution_count": 238,
   "metadata": {
    "collapsed": true
   },
   "outputs": [],
   "source": [
    "room_num2.click()"
   ]
  },
  {
   "cell_type": "code",
   "execution_count": 239,
   "metadata": {},
   "outputs": [
    {
     "data": {
      "text/plain": [
       "'\\n\\t\\t\\t\\t\\t  <label for=\"sch545446762\">\\n\\t\\t\\t\\t\\t\\t<input type=\"checkbox\" name=\"sid[]\" id=\"sch545446762\" value=\"545446762\" data-seq=\"12616103\" class=\"durc\" onchange=\"checkDur(\\'545446762\\');\">\\n\\t\\t\\t\\t\\t\\t11:00am - 12:00pm\\n\\t\\t\\t\\t\\t  </label>\\n\\t\\t\\t\\t\\t'"
      ]
     },
     "execution_count": 239,
     "metadata": {},
     "output_type": "execute_result"
    }
   ],
   "source": [
    "room_num.get_attribute('innerHTML')"
   ]
  },
  {
   "cell_type": "code",
   "execution_count": 269,
   "metadata": {
    "collapsed": true
   },
   "outputs": [],
   "source": [
    "first_name = driver.find_element_by_id('fname')"
   ]
  },
  {
   "cell_type": "code",
   "execution_count": 271,
   "metadata": {
    "collapsed": true
   },
   "outputs": [],
   "source": [
    "first_name.send_keys('xingwen')"
   ]
  },
  {
   "cell_type": "code",
   "execution_count": 272,
   "metadata": {
    "collapsed": true
   },
   "outputs": [],
   "source": [
    "last_name = driver.find_element_by_id('lname')"
   ]
  },
  {
   "cell_type": "code",
   "execution_count": 273,
   "metadata": {
    "collapsed": true
   },
   "outputs": [],
   "source": [
    "last_name.send_keys('zhang')"
   ]
  },
  {
   "cell_type": "code",
   "execution_count": 274,
   "metadata": {
    "collapsed": true
   },
   "outputs": [],
   "source": [
    "email = driver.find_element_by_id('email')"
   ]
  },
  {
   "cell_type": "code",
   "execution_count": 275,
   "metadata": {
    "collapsed": true
   },
   "outputs": [],
   "source": [
    "email.send_keys('xingwenz@usc.edu')"
   ]
  },
  {
   "cell_type": "code",
   "execution_count": null,
   "metadata": {
    "collapsed": true
   },
   "outputs": [],
   "source": [
    "<button class=\"btn btn-primary\" type=\"submit\" onclick=\"return bookRoom();\" id=\"s-lc-rm-ac-but\">Submit my Booking</button>"
   ]
  },
  {
   "cell_type": "code",
   "execution_count": 276,
   "metadata": {
    "collapsed": true
   },
   "outputs": [],
   "source": [
    "submit = driver.find_element_by_id('s-lc-rm-ac-but')"
   ]
  },
  {
   "cell_type": "code",
   "execution_count": 277,
   "metadata": {
    "collapsed": true
   },
   "outputs": [],
   "source": [
    "submit.click()"
   ]
  },
  {
   "cell_type": "code",
   "execution_count": 140,
   "metadata": {},
   "outputs": [
    {
     "ename": "NoSuchElementException",
     "evalue": "Message: no such element: Unable to locate element: {\"method\":\"xpath\",\"selector\":\"self\"}\n  (Session info: chrome=59.0.3071.115)\n  (Driver info: chromedriver=2.30.477700 (0057494ad8732195794a7b32078424f92a5fce41),platform=Windows NT 10.0.15063 x86_64)\n",
     "output_type": "error",
     "traceback": [
      "\u001b[1;31m---------------------------------------------------------------------------\u001b[0m",
      "\u001b[1;31mNoSuchElementException\u001b[0m                    Traceback (most recent call last)",
      "\u001b[1;32m<ipython-input-140-99943b9624f1>\u001b[0m in \u001b[0;36m<module>\u001b[1;34m()\u001b[0m\n\u001b[1;32m----> 1\u001b[1;33m \u001b[0mtime\u001b[0m \u001b[1;33m=\u001b[0m \u001b[0mroom_num\u001b[0m\u001b[1;33m.\u001b[0m\u001b[0mfind_element_by_xpath\u001b[0m\u001b[1;33m(\u001b[0m\u001b[1;34m\"self\"\u001b[0m\u001b[1;33m)\u001b[0m\u001b[1;33m\u001b[0m\u001b[0m\n\u001b[0m",
      "\u001b[1;32mE:\\py3Anaconda\\envs\\py3_xgb_env\\lib\\site-packages\\selenium\\webdriver\\remote\\webelement.py\u001b[0m in \u001b[0;36mfind_element_by_xpath\u001b[1;34m(self, xpath)\u001b[0m\n\u001b[0;32m    258\u001b[0m \u001b[1;33m\u001b[0m\u001b[0m\n\u001b[0;32m    259\u001b[0m         \"\"\"\n\u001b[1;32m--> 260\u001b[1;33m         \u001b[1;32mreturn\u001b[0m \u001b[0mself\u001b[0m\u001b[1;33m.\u001b[0m\u001b[0mfind_element\u001b[0m\u001b[1;33m(\u001b[0m\u001b[0mby\u001b[0m\u001b[1;33m=\u001b[0m\u001b[0mBy\u001b[0m\u001b[1;33m.\u001b[0m\u001b[0mXPATH\u001b[0m\u001b[1;33m,\u001b[0m \u001b[0mvalue\u001b[0m\u001b[1;33m=\u001b[0m\u001b[0mxpath\u001b[0m\u001b[1;33m)\u001b[0m\u001b[1;33m\u001b[0m\u001b[0m\n\u001b[0m\u001b[0;32m    261\u001b[0m \u001b[1;33m\u001b[0m\u001b[0m\n\u001b[0;32m    262\u001b[0m     \u001b[1;32mdef\u001b[0m \u001b[0mfind_elements_by_xpath\u001b[0m\u001b[1;33m(\u001b[0m\u001b[0mself\u001b[0m\u001b[1;33m,\u001b[0m \u001b[0mxpath\u001b[0m\u001b[1;33m)\u001b[0m\u001b[1;33m:\u001b[0m\u001b[1;33m\u001b[0m\u001b[0m\n",
      "\u001b[1;32mE:\\py3Anaconda\\envs\\py3_xgb_env\\lib\\site-packages\\selenium\\webdriver\\remote\\webelement.py\u001b[0m in \u001b[0;36mfind_element\u001b[1;34m(self, by, value)\u001b[0m\n\u001b[0;32m    508\u001b[0m \u001b[1;33m\u001b[0m\u001b[0m\n\u001b[0;32m    509\u001b[0m         return self._execute(Command.FIND_CHILD_ELEMENT,\n\u001b[1;32m--> 510\u001b[1;33m                              {\"using\": by, \"value\": value})['value']\n\u001b[0m\u001b[0;32m    511\u001b[0m \u001b[1;33m\u001b[0m\u001b[0m\n\u001b[0;32m    512\u001b[0m     \u001b[1;32mdef\u001b[0m \u001b[0mfind_elements\u001b[0m\u001b[1;33m(\u001b[0m\u001b[0mself\u001b[0m\u001b[1;33m,\u001b[0m \u001b[0mby\u001b[0m\u001b[1;33m=\u001b[0m\u001b[0mBy\u001b[0m\u001b[1;33m.\u001b[0m\u001b[0mID\u001b[0m\u001b[1;33m,\u001b[0m \u001b[0mvalue\u001b[0m\u001b[1;33m=\u001b[0m\u001b[1;32mNone\u001b[0m\u001b[1;33m)\u001b[0m\u001b[1;33m:\u001b[0m\u001b[1;33m\u001b[0m\u001b[0m\n",
      "\u001b[1;32mE:\\py3Anaconda\\envs\\py3_xgb_env\\lib\\site-packages\\selenium\\webdriver\\remote\\webelement.py\u001b[0m in \u001b[0;36m_execute\u001b[1;34m(self, command, params)\u001b[0m\n\u001b[0;32m    491\u001b[0m             \u001b[0mparams\u001b[0m \u001b[1;33m=\u001b[0m \u001b[1;33m{\u001b[0m\u001b[1;33m}\u001b[0m\u001b[1;33m\u001b[0m\u001b[0m\n\u001b[0;32m    492\u001b[0m         \u001b[0mparams\u001b[0m\u001b[1;33m[\u001b[0m\u001b[1;34m'id'\u001b[0m\u001b[1;33m]\u001b[0m \u001b[1;33m=\u001b[0m \u001b[0mself\u001b[0m\u001b[1;33m.\u001b[0m\u001b[0m_id\u001b[0m\u001b[1;33m\u001b[0m\u001b[0m\n\u001b[1;32m--> 493\u001b[1;33m         \u001b[1;32mreturn\u001b[0m \u001b[0mself\u001b[0m\u001b[1;33m.\u001b[0m\u001b[0m_parent\u001b[0m\u001b[1;33m.\u001b[0m\u001b[0mexecute\u001b[0m\u001b[1;33m(\u001b[0m\u001b[0mcommand\u001b[0m\u001b[1;33m,\u001b[0m \u001b[0mparams\u001b[0m\u001b[1;33m)\u001b[0m\u001b[1;33m\u001b[0m\u001b[0m\n\u001b[0m\u001b[0;32m    494\u001b[0m \u001b[1;33m\u001b[0m\u001b[0m\n\u001b[0;32m    495\u001b[0m     \u001b[1;32mdef\u001b[0m \u001b[0mfind_element\u001b[0m\u001b[1;33m(\u001b[0m\u001b[0mself\u001b[0m\u001b[1;33m,\u001b[0m \u001b[0mby\u001b[0m\u001b[1;33m=\u001b[0m\u001b[0mBy\u001b[0m\u001b[1;33m.\u001b[0m\u001b[0mID\u001b[0m\u001b[1;33m,\u001b[0m \u001b[0mvalue\u001b[0m\u001b[1;33m=\u001b[0m\u001b[1;32mNone\u001b[0m\u001b[1;33m)\u001b[0m\u001b[1;33m:\u001b[0m\u001b[1;33m\u001b[0m\u001b[0m\n",
      "\u001b[1;32mE:\\py3Anaconda\\envs\\py3_xgb_env\\lib\\site-packages\\selenium\\webdriver\\remote\\webdriver.py\u001b[0m in \u001b[0;36mexecute\u001b[1;34m(self, driver_command, params)\u001b[0m\n\u001b[0;32m    254\u001b[0m         \u001b[0mresponse\u001b[0m \u001b[1;33m=\u001b[0m \u001b[0mself\u001b[0m\u001b[1;33m.\u001b[0m\u001b[0mcommand_executor\u001b[0m\u001b[1;33m.\u001b[0m\u001b[0mexecute\u001b[0m\u001b[1;33m(\u001b[0m\u001b[0mdriver_command\u001b[0m\u001b[1;33m,\u001b[0m \u001b[0mparams\u001b[0m\u001b[1;33m)\u001b[0m\u001b[1;33m\u001b[0m\u001b[0m\n\u001b[0;32m    255\u001b[0m         \u001b[1;32mif\u001b[0m \u001b[0mresponse\u001b[0m\u001b[1;33m:\u001b[0m\u001b[1;33m\u001b[0m\u001b[0m\n\u001b[1;32m--> 256\u001b[1;33m             \u001b[0mself\u001b[0m\u001b[1;33m.\u001b[0m\u001b[0merror_handler\u001b[0m\u001b[1;33m.\u001b[0m\u001b[0mcheck_response\u001b[0m\u001b[1;33m(\u001b[0m\u001b[0mresponse\u001b[0m\u001b[1;33m)\u001b[0m\u001b[1;33m\u001b[0m\u001b[0m\n\u001b[0m\u001b[0;32m    257\u001b[0m             response['value'] = self._unwrap_value(\n\u001b[0;32m    258\u001b[0m                 response.get('value', None))\n",
      "\u001b[1;32mE:\\py3Anaconda\\envs\\py3_xgb_env\\lib\\site-packages\\selenium\\webdriver\\remote\\errorhandler.py\u001b[0m in \u001b[0;36mcheck_response\u001b[1;34m(self, response)\u001b[0m\n\u001b[0;32m    192\u001b[0m         \u001b[1;32melif\u001b[0m \u001b[0mexception_class\u001b[0m \u001b[1;33m==\u001b[0m \u001b[0mUnexpectedAlertPresentException\u001b[0m \u001b[1;32mand\u001b[0m \u001b[1;34m'alert'\u001b[0m \u001b[1;32min\u001b[0m \u001b[0mvalue\u001b[0m\u001b[1;33m:\u001b[0m\u001b[1;33m\u001b[0m\u001b[0m\n\u001b[0;32m    193\u001b[0m             \u001b[1;32mraise\u001b[0m \u001b[0mexception_class\u001b[0m\u001b[1;33m(\u001b[0m\u001b[0mmessage\u001b[0m\u001b[1;33m,\u001b[0m \u001b[0mscreen\u001b[0m\u001b[1;33m,\u001b[0m \u001b[0mstacktrace\u001b[0m\u001b[1;33m,\u001b[0m \u001b[0mvalue\u001b[0m\u001b[1;33m[\u001b[0m\u001b[1;34m'alert'\u001b[0m\u001b[1;33m]\u001b[0m\u001b[1;33m.\u001b[0m\u001b[0mget\u001b[0m\u001b[1;33m(\u001b[0m\u001b[1;34m'text'\u001b[0m\u001b[1;33m)\u001b[0m\u001b[1;33m)\u001b[0m\u001b[1;33m\u001b[0m\u001b[0m\n\u001b[1;32m--> 194\u001b[1;33m         \u001b[1;32mraise\u001b[0m \u001b[0mexception_class\u001b[0m\u001b[1;33m(\u001b[0m\u001b[0mmessage\u001b[0m\u001b[1;33m,\u001b[0m \u001b[0mscreen\u001b[0m\u001b[1;33m,\u001b[0m \u001b[0mstacktrace\u001b[0m\u001b[1;33m)\u001b[0m\u001b[1;33m\u001b[0m\u001b[0m\n\u001b[0m\u001b[0;32m    195\u001b[0m \u001b[1;33m\u001b[0m\u001b[0m\n\u001b[0;32m    196\u001b[0m     \u001b[1;32mdef\u001b[0m \u001b[0m_value_or_default\u001b[0m\u001b[1;33m(\u001b[0m\u001b[0mself\u001b[0m\u001b[1;33m,\u001b[0m \u001b[0mobj\u001b[0m\u001b[1;33m,\u001b[0m \u001b[0mkey\u001b[0m\u001b[1;33m,\u001b[0m \u001b[0mdefault\u001b[0m\u001b[1;33m)\u001b[0m\u001b[1;33m:\u001b[0m\u001b[1;33m\u001b[0m\u001b[0m\n",
      "\u001b[1;31mNoSuchElementException\u001b[0m: Message: no such element: Unable to locate element: {\"method\":\"xpath\",\"selector\":\"self\"}\n  (Session info: chrome=59.0.3071.115)\n  (Driver info: chromedriver=2.30.477700 (0057494ad8732195794a7b32078424f92a5fce41),platform=Windows NT 10.0.15063 x86_64)\n"
     ]
    }
   ],
   "source": [
    "time = room_num.find_element_by_xpath(\"self::*/\")"
   ]
  },
  {
   "cell_type": "code",
   "execution_count": 122,
   "metadata": {},
   "outputs": [
    {
     "ename": "SyntaxError",
     "evalue": "invalid syntax (<ipython-input-122-2505ce31c491>, line 1)",
     "output_type": "error",
     "traceback": [
      "\u001b[1;36m  File \u001b[1;32m\"<ipython-input-122-2505ce31c491>\"\u001b[1;36m, line \u001b[1;32m1\u001b[0m\n\u001b[1;33m    (/*[@id=\"roombookingform\"]/fieldset[1]/div[2]/label/text())\u001b[0m\n\u001b[1;37m     ^\u001b[0m\n\u001b[1;31mSyntaxError\u001b[0m\u001b[1;31m:\u001b[0m invalid syntax\n"
     ]
    }
   ],
   "source": [
    "//*[@id=\"roombookingform\"]/fieldset[1]/div[2]/label/text()"
   ]
  },
  {
   "cell_type": "code",
   "execution_count": 8,
   "metadata": {},
   "outputs": [
    {
     "ename": "SyntaxError",
     "evalue": "invalid syntax (<ipython-input-8-8bd625d50acb>, line 1)",
     "output_type": "error",
     "traceback": [
      "\u001b[1;36m  File \u001b[1;32m\"<ipython-input-8-8bd625d50acb>\"\u001b[1;36m, line \u001b[1;32m1\u001b[0m\n\u001b[1;33m    (/*[@id=\"roombookingform\"]/fieldset[1]/div[2])\u001b[0m\n\u001b[1;37m     ^\u001b[0m\n\u001b[1;31mSyntaxError\u001b[0m\u001b[1;31m:\u001b[0m invalid syntax\n"
     ]
    }
   ],
   "source": [
    "//*[@id=\"roombookingform\"]/fieldset[1]/div[2]"
   ]
  },
  {
   "cell_type": "code",
   "execution_count": 29,
   "metadata": {},
   "outputs": [
    {
     "name": "stdout",
     "output_type": "stream",
     "text": [
      "0\n",
      "1\n"
     ]
    }
   ],
   "source": [
    "for i in range(2):\n",
    "    print(i)"
   ]
  },
  {
   "cell_type": "code",
   "execution_count": 49,
   "metadata": {
    "collapsed": true
   },
   "outputs": [],
   "source": [
    "url = 'http://libcal.usc.edu/rooms_acc.php?gid=4490'\n",
    "def valid_room_helper(date):\n",
    "    parameters = '&d='+date+'&cap=1'\n",
    "    new_url = url + parameters\n",
    "    print(new_url)\n",
    "    main_page = requests.get(new_url)\n",
    "    soup = BeautifulSoup(main_page.text,'lxml')\n",
    "    room_form = soup.select('form[id=\"roombookingform\"]')[0]\n",
    "    room_form_info = room_form.select('fieldset')\n",
    "    valid_room_time = ''\n",
    "    for room in room_form_info:\n",
    "        for item in room.stripped_strings:\n",
    "            if item != 'Capacity: 1' and item != 'Group Study Room' and item != 'Skip to registration form':\n",
    "                valid_room_time += (item + '\\n')\n",
    "    print(len(valid_room_time))\n",
    "    return valid_room_time"
   ]
  },
  {
   "cell_type": "code",
   "execution_count": 50,
   "metadata": {},
   "outputs": [
    {
     "name": "stdout",
     "output_type": "stream",
     "text": [
      "http://libcal.usc.edu/rooms_acc.php?gid=4490&d=2017-7-20&cap=1\n",
      "3027\n",
      "3F\n",
      "11:00am - 12:00pm\n",
      "12:00pm - 1:00pm\n",
      "1:00pm - 2:00pm\n",
      "6:00pm - 7:00pm\n",
      "3G\n",
      "9:00am - 10:00am\n",
      "10:00am - 11:00am\n",
      "11:00am - 12:00pm\n",
      "12:00pm - 1:00pm\n",
      "1:00pm - 2:00pm\n",
      "4:00pm - 5:00pm\n",
      "5:00pm - 6:00pm\n",
      "6:00pm - 7:00pm\n",
      "3H\n",
      "9:00am - 10:00am\n",
      "10:00am - 11:00am\n",
      "11:00am - 12:00pm\n",
      "12:00pm - 1:00pm\n",
      "1:00pm - 2:00pm\n",
      "2:00pm - 3:00pm\n",
      "3:00pm - 4:00pm\n",
      "4:00pm - 5:00pm\n",
      "5:00pm - 6:00pm\n",
      "6:00pm - 7:00pm\n",
      "3J\n",
      "Group Study Room. Knoll furniture evaluation.\n",
      "9:00am - 10:00am\n",
      "10:00am - 11:00am\n",
      "11:00am - 12:00pm\n",
      "12:00pm - 1:00pm\n",
      "1:00pm - 2:00pm\n",
      "2:00pm - 3:00pm\n",
      "3:00pm - 4:00pm\n",
      "4:00pm - 5:00pm\n",
      "5:00pm - 6:00pm\n",
      "6:00pm - 7:00pm\n",
      "3R\n",
      "9:00am - 10:00am\n",
      "10:00am - 11:00am\n",
      "11:00am - 12:00pm\n",
      "12:00pm - 1:00pm\n",
      "1:00pm - 2:00pm\n",
      "2:00pm - 3:00pm\n",
      "3:00pm - 4:00pm\n",
      "4:00pm - 5:00pm\n",
      "5:00pm - 6:00pm\n",
      "6:00pm - 7:00pm\n",
      "3S\n",
      "9:00am - 10:00am\n",
      "10:00am - 11:00am\n",
      "11:00am - 12:00pm\n",
      "12:00pm - 1:00pm\n",
      "1:00pm - 2:00pm\n",
      "2:00pm - 3:00pm\n",
      "3:00pm - 4:00pm\n",
      "4:00pm - 5:00pm\n",
      "5:00pm - 6:00pm\n",
      "6:00pm - 7:00pm\n",
      "3T\n",
      "9:00am - 10:00am\n",
      "10:00am - 11:00am\n",
      "11:00am - 12:00pm\n",
      "12:00pm - 1:00pm\n",
      "1:00pm - 2:00pm\n",
      "2:00pm - 3:00pm\n",
      "3:00pm - 4:00pm\n",
      "4:00pm - 5:00pm\n",
      "5:00pm - 6:00pm\n",
      "6:00pm - 7:00pm\n",
      "3U\n",
      "9:00am - 10:00am\n",
      "10:00am - 11:00am\n",
      "11:00am - 12:00pm\n",
      "12:00pm - 1:00pm\n",
      "1:00pm - 2:00pm\n",
      "2:00pm - 3:00pm\n",
      "3:00pm - 4:00pm\n",
      "4:00pm - 5:00pm\n",
      "5:00pm - 6:00pm\n",
      "6:00pm - 7:00pm\n",
      "3W\n",
      "9:00am - 10:00am\n",
      "10:00am - 11:00am\n",
      "11:00am - 12:00pm\n",
      "12:00pm - 1:00pm\n",
      "1:00pm - 2:00pm\n",
      "2:00pm - 3:00pm\n",
      "3:00pm - 4:00pm\n",
      "4:00pm - 5:00pm\n",
      "5:00pm - 6:00pm\n",
      "6:00pm - 7:00pm\n",
      "3X\n",
      "9:00am - 10:00am\n",
      "10:00am - 11:00am\n",
      "11:00am - 12:00pm\n",
      "12:00pm - 1:00pm\n",
      "1:00pm - 2:00pm\n",
      "2:00pm - 3:00pm\n",
      "3:00pm - 4:00pm\n",
      "4:00pm - 5:00pm\n",
      "5:00pm - 6:00pm\n",
      "6:00pm - 7:00pm\n",
      "3AA\n",
      "9:00am - 10:00am\n",
      "10:00am - 11:00am\n",
      "11:00am - 12:00pm\n",
      "12:00pm - 1:00pm\n",
      "1:00pm - 2:00pm\n",
      "2:00pm - 3:00pm\n",
      "3:00pm - 4:00pm\n",
      "4:00pm - 5:00pm\n",
      "5:00pm - 6:00pm\n",
      "6:00pm - 7:00pm\n",
      "3K\n",
      "Group Study Room. Haworth technology and furniture evaluation.\n",
      "9:00am - 10:00am\n",
      "10:00am - 11:00am\n",
      "11:00am - 12:00pm\n",
      "12:00pm - 1:00pm\n",
      "1:00pm - 2:00pm\n",
      "2:00pm - 3:00pm\n",
      "3:00pm - 4:00pm\n",
      "4:00pm - 5:00pm\n",
      "5:00pm - 6:00pm\n",
      "6:00pm - 7:00pm\n",
      "3L\n",
      "Group Study Room. Knoll technology and furniture evaluation.\n",
      "9:00am - 10:00am\n",
      "10:00am - 11:00am\n",
      "11:00am - 12:00pm\n",
      "12:00pm - 1:00pm\n",
      "1:00pm - 2:00pm\n",
      "2:00pm - 3:00pm\n",
      "3:00pm - 4:00pm\n",
      "4:00pm - 5:00pm\n",
      "5:00pm - 6:00pm\n",
      "6:00pm - 7:00pm\n",
      "3N\n",
      "Group Study Room. Haworth technology and furniture evaluation.\n",
      "9:00am - 10:00am\n",
      "10:00am - 11:00am\n",
      "11:00am - 12:00pm\n",
      "12:00pm - 1:00pm\n",
      "1:00pm - 2:00pm\n",
      "2:00pm - 3:00pm\n",
      "3:00pm - 4:00pm\n",
      "4:00pm - 5:00pm\n",
      "5:00pm - 6:00pm\n",
      "6:00pm - 7:00pm\n",
      "3P\n",
      "Group Study Room. Collab8 technology evaluation.\n",
      "9:00am - 10:00am\n",
      "10:00am - 11:00am\n",
      "11:00am - 12:00pm\n",
      "12:00pm - 1:00pm\n",
      "1:00pm - 2:00pm\n",
      "2:00pm - 3:00pm\n",
      "3:00pm - 4:00pm\n",
      "4:00pm - 5:00pm\n",
      "5:00pm - 6:00pm\n",
      "6:00pm - 7:00pm\n",
      "3Q\n",
      "Group Study Room. Collab8 technology evaluation.\n",
      "9:00am - 10:00am\n",
      "10:00am - 11:00am\n",
      "11:00am - 12:00pm\n",
      "12:00pm - 1:00pm\n",
      "1:00pm - 2:00pm\n",
      "2:00pm - 3:00pm\n",
      "3:00pm - 4:00pm\n",
      "4:00pm - 5:00pm\n",
      "5:00pm - 6:00pm\n",
      "6:00pm - 7:00pm\n",
      "Booking Details\n",
      "* Required Field\n",
      "Full Name *\n",
      "First Name\n",
      "Last Name\n",
      "Email *\n",
      "Enter @usc.edu addresses only\n",
      "Submit my Booking\n",
      "\n"
     ]
    }
   ],
   "source": [
    "print(valid_room_helper('2017-7-20'))"
   ]
  },
  {
   "cell_type": "code",
   "execution_count": 55,
   "metadata": {
    "collapsed": true
   },
   "outputs": [],
   "source": [
    "def book_room_helper(date, room, time, fname, lname, email):\n",
    "    # driver = webdriver.PhantomJS()\n",
    "    driver = webdriver.Chrome('E:\\chromedriver_win32\\chromedriver.exe')\n",
    "    parameters = '&d='+date+'&cap=1'\n",
    "    new_url = url + parameters\n",
    "    driver.get(new_url)\n",
    "    room = room.upper()\n",
    "    time_list = time.split(',')\n",
    "    period = 2\n",
    "    if time_list[0] == time_list[-1]:\n",
    "        period = 1\n",
    "    for i in range(len(time_list)):\n",
    "        if int(time_list[i]) >=0 and int(time_list[i]) <12:\n",
    "            time_list[i] = time_list[i]+':00am -'\n",
    "        elif  int(time_list[i]) == 12:\n",
    "            time_list[i] = time_list[i]+':00pm -'\n",
    "        else:\n",
    "            time_list[i] = str(int(time_list[i])-12)+':00pm -'\n",
    "\n",
    "    while period >0:\n",
    "        option = driver.find_element_by_xpath(\"//h2[contains(text(), '%s')]/parent::*/parent::*/*[contains(@class,'checkbox')]/self::*[contains(.,'%s')]/child::label\" %(room, time_list[2-period]))\n",
    "        option.click()\n",
    "        period -= 1\n",
    "\n",
    "    first_name = driver.find_element_by_id('fname')\n",
    "    first_name.send_keys(fname)\n",
    "    last_name = driver.find_element_by_id('lname')\n",
    "    last_name.send_keys(lname)\n",
    "    email_field = driver.find_element_by_id('email')\n",
    "    email_field.send_keys(email)\n",
    "    submit = driver.find_element_by_id('s-lc-rm-ac-but')\n",
    "    submit.click()\n",
    "    return 'successful, plz check your email'"
   ]
  },
  {
   "cell_type": "code",
   "execution_count": 56,
   "metadata": {},
   "outputs": [
    {
     "ename": "TypeError",
     "evalue": "object of type 'WebElement' has no len()",
     "output_type": "error",
     "traceback": [
      "\u001b[1;31m---------------------------------------------------------------------------\u001b[0m",
      "\u001b[1;31mTypeError\u001b[0m                                 Traceback (most recent call last)",
      "\u001b[1;32m<ipython-input-56-204c8f68ce68>\u001b[0m in \u001b[0;36m<module>\u001b[1;34m()\u001b[0m\n\u001b[1;32m----> 1\u001b[1;33m \u001b[0mbook_room_helper\u001b[0m\u001b[1;33m(\u001b[0m\u001b[1;34m'2017-7-20'\u001b[0m\u001b[1;33m,\u001b[0m\u001b[1;34m'3N'\u001b[0m\u001b[1;33m,\u001b[0m\u001b[1;34m'9,10'\u001b[0m\u001b[1;33m,\u001b[0m\u001b[1;34m'xingwen'\u001b[0m\u001b[1;33m,\u001b[0m\u001b[1;34m'zhang'\u001b[0m\u001b[1;33m,\u001b[0m\u001b[1;34m'xingwenz@usc.edu'\u001b[0m\u001b[1;33m)\u001b[0m\u001b[1;33m\u001b[0m\u001b[0m\n\u001b[0m",
      "\u001b[1;32m<ipython-input-55-5a2a0c4e0a22>\u001b[0m in \u001b[0;36mbook_room_helper\u001b[1;34m(date, room, time, fname, lname, email)\u001b[0m\n\u001b[0;32m     28\u001b[0m     \u001b[0mlast_name\u001b[0m\u001b[1;33m.\u001b[0m\u001b[0msend_keys\u001b[0m\u001b[1;33m(\u001b[0m\u001b[0mlname\u001b[0m\u001b[1;33m)\u001b[0m\u001b[1;33m\u001b[0m\u001b[0m\n\u001b[0;32m     29\u001b[0m     \u001b[0memail\u001b[0m \u001b[1;33m=\u001b[0m \u001b[0mdriver\u001b[0m\u001b[1;33m.\u001b[0m\u001b[0mfind_element_by_id\u001b[0m\u001b[1;33m(\u001b[0m\u001b[1;34m'email'\u001b[0m\u001b[1;33m)\u001b[0m\u001b[1;33m\u001b[0m\u001b[0m\n\u001b[1;32m---> 30\u001b[1;33m     \u001b[0memail\u001b[0m\u001b[1;33m.\u001b[0m\u001b[0msend_keys\u001b[0m\u001b[1;33m(\u001b[0m\u001b[0memail\u001b[0m\u001b[1;33m)\u001b[0m\u001b[1;33m\u001b[0m\u001b[0m\n\u001b[0m\u001b[0;32m     31\u001b[0m     \u001b[0msubmit\u001b[0m \u001b[1;33m=\u001b[0m \u001b[0mdriver\u001b[0m\u001b[1;33m.\u001b[0m\u001b[0mfind_element_by_id\u001b[0m\u001b[1;33m(\u001b[0m\u001b[1;34m's-lc-rm-ac-but'\u001b[0m\u001b[1;33m)\u001b[0m\u001b[1;33m\u001b[0m\u001b[0m\n\u001b[0;32m     32\u001b[0m     \u001b[0msubmit\u001b[0m\u001b[1;33m.\u001b[0m\u001b[0mclick\u001b[0m\u001b[1;33m(\u001b[0m\u001b[1;33m)\u001b[0m\u001b[1;33m\u001b[0m\u001b[0m\n",
      "\u001b[1;32mE:\\py3Anaconda\\envs\\py3_xgb_env\\lib\\site-packages\\selenium\\webdriver\\remote\\webelement.py\u001b[0m in \u001b[0;36msend_keys\u001b[1;34m(self, *value)\u001b[0m\n\u001b[0;32m    346\u001b[0m \u001b[1;33m\u001b[0m\u001b[0m\n\u001b[0;32m    347\u001b[0m         self._execute(Command.SEND_KEYS_TO_ELEMENT,\n\u001b[1;32m--> 348\u001b[1;33m                       {'text': \"\".join(keys_to_typing(value)),\n\u001b[0m\u001b[0;32m    349\u001b[0m                        'value': keys_to_typing(value)})\n\u001b[0;32m    350\u001b[0m \u001b[1;33m\u001b[0m\u001b[0m\n",
      "\u001b[1;32mE:\\py3Anaconda\\envs\\py3_xgb_env\\lib\\site-packages\\selenium\\webdriver\\common\\utils.py\u001b[0m in \u001b[0;36mkeys_to_typing\u001b[1;34m(value)\u001b[0m\n\u001b[0;32m    148\u001b[0m                 \u001b[0mtyping\u001b[0m\u001b[1;33m.\u001b[0m\u001b[0mappend\u001b[0m\u001b[1;33m(\u001b[0m\u001b[0mval\u001b[0m\u001b[1;33m[\u001b[0m\u001b[0mi\u001b[0m\u001b[1;33m]\u001b[0m\u001b[1;33m)\u001b[0m\u001b[1;33m\u001b[0m\u001b[0m\n\u001b[0;32m    149\u001b[0m         \u001b[1;32melse\u001b[0m\u001b[1;33m:\u001b[0m\u001b[1;33m\u001b[0m\u001b[0m\n\u001b[1;32m--> 150\u001b[1;33m             \u001b[1;32mfor\u001b[0m \u001b[0mi\u001b[0m \u001b[1;32min\u001b[0m \u001b[0mrange\u001b[0m\u001b[1;33m(\u001b[0m\u001b[0mlen\u001b[0m\u001b[1;33m(\u001b[0m\u001b[0mval\u001b[0m\u001b[1;33m)\u001b[0m\u001b[1;33m)\u001b[0m\u001b[1;33m:\u001b[0m\u001b[1;33m\u001b[0m\u001b[0m\n\u001b[0m\u001b[0;32m    151\u001b[0m                 \u001b[0mtyping\u001b[0m\u001b[1;33m.\u001b[0m\u001b[0mappend\u001b[0m\u001b[1;33m(\u001b[0m\u001b[0mval\u001b[0m\u001b[1;33m[\u001b[0m\u001b[0mi\u001b[0m\u001b[1;33m]\u001b[0m\u001b[1;33m)\u001b[0m\u001b[1;33m\u001b[0m\u001b[0m\n\u001b[0;32m    152\u001b[0m     \u001b[1;32mreturn\u001b[0m \u001b[0mtyping\u001b[0m\u001b[1;33m\u001b[0m\u001b[0m\n",
      "\u001b[1;31mTypeError\u001b[0m: object of type 'WebElement' has no len()"
     ]
    }
   ],
   "source": [
    "book_room_helper('2017-7-20','3N','9,10','xingwen','zhang','xingwenz@usc.edu')"
   ]
  },
  {
   "cell_type": "code",
   "execution_count": null,
   "metadata": {
    "collapsed": true
   },
   "outputs": [],
   "source": []
  }
 ],
 "metadata": {
  "kernelspec": {
   "display_name": "Python 3",
   "language": "python",
   "name": "python3"
  },
  "language_info": {
   "codemirror_mode": {
    "name": "ipython",
    "version": 3
   },
   "file_extension": ".py",
   "mimetype": "text/x-python",
   "name": "python",
   "nbconvert_exporter": "python",
   "pygments_lexer": "ipython3",
   "version": "3.6.1"
  }
 },
 "nbformat": 4,
 "nbformat_minor": 2
}

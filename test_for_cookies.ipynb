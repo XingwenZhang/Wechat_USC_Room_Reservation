{
 "cells": [
  {
   "cell_type": "code",
   "execution_count": 1,
   "metadata": {
    "collapsed": true
   },
   "outputs": [],
   "source": [
    "import requests"
   ]
  },
  {
   "cell_type": "code",
   "execution_count": 2,
   "metadata": {
    "collapsed": true
   },
   "outputs": [],
   "source": [
    "post_url = 'http://libcal.usc.edu/process_roombookings.php?m=booking_mob'"
   ]
  },
  {
   "cell_type": "code",
   "execution_count": 21,
   "metadata": {},
   "outputs": [],
   "source": [
    "r = requests.post(post_url)"
   ]
  },
  {
   "cell_type": "code",
   "execution_count": 22,
   "metadata": {},
   "outputs": [
    {
     "data": {
      "text/plain": [
       "'J7XEmrjMP/gmTc6bHTxAo6rHDohb4EHGQaBwFPr8r7tRd5hiil0HQJaeThdJBNQTDh33kZd2oVyXf1LyVWTchvbns8IZwbatigeEPXmMZQQ7tV7tgJjf64dxarrV'"
      ]
     },
     "execution_count": 22,
     "metadata": {},
     "output_type": "execute_result"
    }
   ],
   "source": [
    "r.cookies['AWSALB']"
   ]
  },
  {
   "cell_type": "code",
   "execution_count": 6,
   "metadata": {
    "collapsed": true
   },
   "outputs": [],
   "source": [
    "rr = requests.post(post_url)"
   ]
  },
  {
   "cell_type": "code",
   "execution_count": 8,
   "metadata": {},
   "outputs": [
    {
     "data": {
      "text/plain": [
       "'64DHeziR8vniI41awJVSSl9NbcyfmrJStFguqRv9AKPC7gsJUN/w4+qqJAy/qaMuYSmdn0kBBs0aWsMT3vzGEgZo7P50ui97MRWZN6LXQyKGco/0fHVHeSbQlPSs'"
      ]
     },
     "execution_count": 8,
     "metadata": {},
     "output_type": "execute_result"
    }
   ],
   "source": [
    "rr.cookies['AWSALB']"
   ]
  },
  {
   "cell_type": "code",
   "execution_count": 9,
   "metadata": {},
   "outputs": [
    {
     "ename": "SyntaxError",
     "evalue": "illegal target for annotation (<ipython-input-9-e2219aeb3203>, line 1)",
     "output_type": "error",
     "traceback": [
      "\u001b[1;36m  File \u001b[1;32m\"<ipython-input-9-e2219aeb3203>\"\u001b[1;36m, line \u001b[1;32m1\u001b[0m\n\u001b[1;33m    'Cookie':\"_vwo_uuid_v2=641003E722BA383572EB5960C60479AE|1b62e9dc5791b7d2b6bcad3650c57fac; optimizelyEndUserId=oeu1479493308140r0.28413408277979224; optimizelySegments=%7B%224150957310%22%3A%22false%22%2C%224155974626%22%3A%22search%22%2C%224163194645%22%3A%22gc%22%7D; optimizelyBuckets=%7B%7D; desktopCookie=uschomepage; __utma=185748653.185138458.1479232294.1485728281.1485735202.4; __utmz=185748653.1485735202.4.4.utmcsr=google|utmccn=(organic)|utmcmd=organic|utmctr=(not%20provided); __hstc=77507402.c99caa907c017d0cd093ec68a08585ce.1485740385320.1485740385320.1485740385320.1; hsfirstvisit=http%3A%2F%2Fexechealthadmin.usc.edu%2Fadmissions|http%3A%2F%2Fwww.bing.com%2Fsearch%3Fq%3Dusc%2520price%2520online%2520requirements%26qs%3Dn%26form%3DQBRE%26sp%3D-1%26pq%3Dusc%2520price%2520online%2520requirements%26sc%3D0-29%26sk%3D%26cvid%3D2AF353EB7C944C87865EBC99354240E1|1485740385314; hubspotutk=c99caa907c017d0cd093ec68a08585ce; __unam=79ac26c-1586b64794e-4522b679-162; AWSALB=58uIzcz0XzBXpuCiCHR3FJ8AJOP4fzrL9GNWKK0mVSKCoeL9nZPTs8j1qbAzLQHRNf0XEaERmQKPnrjkwMF3xTy5CR1BMmQdohJsN6fxAcB/OGP6/z2q5qvGH2k4; _ga=GA1.2.185138458.1479232294; _gid=GA1.2.1893662304.1500247444\"\u001b[0m\n\u001b[1;37m                                                                                                                                                                                                                                                                                                                                                                                                                                                                                                                                                                                                                                                                                                                                                                                                                                                                                                                                                                                                                                                                                                                                                                                                                       ^\u001b[0m\n\u001b[1;31mSyntaxError\u001b[0m\u001b[1;31m:\u001b[0m illegal target for annotation\n"
     ]
    }
   ],
   "source": [
    " 'Cookie':\"_vwo_uuid_v2=641003E722BA383572EB5960C60479AE|1b62e9dc5791b7d2b6bcad3650c57fac; optimizelyEndUserId=oeu1479493308140r0.28413408277979224; optimizelySegments=%7B%224150957310%22%3A%22false%22%2C%224155974626%22%3A%22search%22%2C%224163194645%22%3A%22gc%22%7D; optimizelyBuckets=%7B%7D; desktopCookie=uschomepage; __utma=185748653.185138458.1479232294.1485728281.1485735202.4; __utmz=185748653.1485735202.4.4.utmcsr=google|utmccn=(organic)|utmcmd=organic|utmctr=(not%20provided); __hstc=77507402.c99caa907c017d0cd093ec68a08585ce.1485740385320.1485740385320.1485740385320.1; hsfirstvisit=http%3A%2F%2Fexechealthadmin.usc.edu%2Fadmissions|http%3A%2F%2Fwww.bing.com%2Fsearch%3Fq%3Dusc%2520price%2520online%2520requirements%26qs%3Dn%26form%3DQBRE%26sp%3D-1%26pq%3Dusc%2520price%2520online%2520requirements%26sc%3D0-29%26sk%3D%26cvid%3D2AF353EB7C944C87865EBC99354240E1|1485740385314; hubspotutk=c99caa907c017d0cd093ec68a08585ce; __unam=79ac26c-1586b64794e-4522b679-162; _ga=GA1.2.185138458.1479232294; _gid=GA1.2.1893662304.1500247444\"\n",
    "   "
   ]
  },
  {
   "cell_type": "code",
   "execution_count": 15,
   "metadata": {},
   "outputs": [
    {
     "name": "stdout",
     "output_type": "stream",
     "text": [
      "9dFVklpN2CDOndAVtQ/eIAdpwcQHRiLM0Dl0H0GaDJCDgEk6Ypp3mjlccE7S5V0buCiGZLJoa+zV4t0ngQ9G8aPsDOJt17JBQ4jR1CoKQjf7iH0WLIPVIwL/c4K1\n",
      "a%3A1%3A%7Bs%3A44%3A%22XgUHld%2FQ8a79ioW5IKe%2F8C%2FTGJ3UD8%2FoXPchDn2mskc%3D%22%3Bs%3A128%3A%226wnqD98Ijg04VrPUZd7rf0CazJJgvpJ2QOpkSlK2%2B8qkQEkk79NGYWNTQno7YtZjD7TSE0se4M3WKnaRBBokVkhwPXYPl9KDGnhQEFqDr4394FvRnwFafUI6hekz%2FcJL%22%3B%7D\n",
      "<RequestsCookieJar[<Cookie AWSALB=9dFVklpN2CDOndAVtQ/eIAdpwcQHRiLM0Dl0H0GaDJCDgEk6Ypp3mjlccE7S5V0buCiGZLJoa+zV4t0ngQ9G8aPsDOJt17JBQ4jR1CoKQjf7iH0WLIPVIwL/c4K1 for libcal.usc.edu/>, <Cookie lc_rbv=a%3A1%3A%7Bs%3A44%3A%22XgUHld%2FQ8a79ioW5IKe%2F8C%2FTGJ3UD8%2FoXPchDn2mskc%3D%22%3Bs%3A128%3A%226wnqD98Ijg04VrPUZd7rf0CazJJgvpJ2QOpkSlK2%2B8qkQEkk79NGYWNTQno7YtZjD7TSE0se4M3WKnaRBBokVkhwPXYPl9KDGnhQEFqDr4394FvRnwFafUI6hekz%2FcJL%22%3B%7D for libcal.usc.edu/>]>\n"
     ]
    }
   ],
   "source": [
    "get_url = 'http://libcal.usc.edu/rooms_acc.php?gid=4490'\n",
    "rrr = requests.get(get_url)\n",
    "print (rrr.cookies['AWSALB'])\n",
    "print (rrr.cookies['lc_rbv'])\n",
    "print(rrr.cookies)"
   ]
  },
  {
   "cell_type": "code",
   "execution_count": null,
   "metadata": {
    "collapsed": true
   },
   "outputs": [],
   "source": [
    " 'Cookie':\"_vwo_uuid_v2=641003E722BA383572EB5960C60479AE|1b62e9dc5791b7d2b6bcad3650c57fac; optimizelyEndUserId=oeu1479493308140r0.28413408277979224; optimizelySegments=%7B%224150957310%22%3A%22false%22%2C%224155974626%22%3A%22search%22%2C%224163194645%22%3A%22gc%22%7D; optimizelyBuckets=%7B%7D; desktopCookie=uschomepage; __utma=185748653.185138458.1479232294.1485728281.1485735202.4; __utmz=185748653.1485735202.4.4.utmcsr=google|utmccn=(organic)|utmcmd=organic|utmctr=(not%20provided); __hstc=77507402.c99caa907c017d0cd093ec68a08585ce.1485740385320.1485740385320.1485740385320.1; hsfirstvisit=http%3A%2F%2Fexechealthadmin.usc.edu%2Fadmissions|http%3A%2F%2Fwww.bing.com%2Fsearch%3Fq%3Dusc%2520price%2520online%2520requirements%26qs%3Dn%26form%3DQBRE%26sp%3D-1%26pq%3Dusc%2520price%2520online%2520requirements%26sc%3D0-29%26sk%3D%26cvid%3D2AF353EB7C944C87865EBC99354240E1|1485740385314; hubspotutk=c99caa907c017d0cd093ec68a08585ce; __unam=79ac26c-1586b64794e-4522b679-162; AWSALB=58uIzcz0XzBXpuCiCHR3FJ8AJOP4fzrL9GNWKK0mVSKCoeL9nZPTs8j1qbAzLQHRNf0XEaERmQKPnrjkwMF3xTy5CR1BMmQdohJsN6fxAcB/OGP6/z2q5qvGH2k4; _ga=GA1.2.185138458.1479232294; _gid=GA1.2.1893662304.1500247444\"\n",
    "   "
   ]
  }
 ],
 "metadata": {
  "kernelspec": {
   "display_name": "Python 3",
   "language": "python",
   "name": "python3"
  },
  "language_info": {
   "codemirror_mode": {
    "name": "ipython",
    "version": 3
   },
   "file_extension": ".py",
   "mimetype": "text/x-python",
   "name": "python",
   "nbconvert_exporter": "python",
   "pygments_lexer": "ipython3",
   "version": "3.6.1"
  }
 },
 "nbformat": 4,
 "nbformat_minor": 2
}
